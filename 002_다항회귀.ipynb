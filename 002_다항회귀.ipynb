{
 "cells": [
  {
   "cell_type": "markdown",
   "metadata": {
    "id": "9XiInwk6ge76"
   },
   "source": [
    "### Polynomial Regression 이해"
   ]
  },
  {
   "cell_type": "markdown",
   "metadata": {
    "id": "biLTtshOge76"
   },
   "source": [
    "PolynomialFeatures 클래스로 다항식 변환"
   ]
  },
  {
   "cell_type": "markdown",
   "metadata": {
    "id": "yYWhcY9lGs9b"
   },
   "source": [
    "```python\n",
    "import numpy as np\n",
    "import matplotlib.pyplot as plt\n",
    "\n",
    "plt.rc('font', size=14)\n",
    "plt.rc('axes', labelsize=14, titlesize=14)\n",
    "plt.rc('legend', fontsize=14)\n",
    "plt.rc('xtick', labelsize=10)\n",
    "plt.rc('ytick', labelsize=10)\n",
    "\n",
    "np.random.seed(42)\n",
    "m = 100\n",
    "X = 6 * np.random.rand(m, 1) - 3                   # -3에서 3 사이의 임의의 값 100개\n",
    "y = 0.5 * X ** 2 + X + 2 + np.random.randn(m, 1)   # 2차 함수 활용. 잡음 추가됨.\n",
    "\n",
    "plt.figure(figsize=(6, 4))\n",
    "plt.plot(X, y, \"b.\")\n",
    "plt.xlabel(\"$x_1$\")\n",
    "plt.ylabel(\"$y$\", rotation=0)\n",
    "plt.axis([-3, 3, 0, 10])\n",
    "plt.grid()\n",
    "plt.show()\n",
    "```"
   ]
  },
  {
   "cell_type": "code",
   "execution_count": 1,
   "metadata": {
    "id": "jpNUxWGq9BN9"
   },
   "outputs": [
    {
     "data": {
      "image/png": "[encoded data removed]",
      "text/plain": [
       "<Figure size 600x400 with 1 Axes>"
      ]
     },
     "metadata": {},
     "output_type": "display_data"
    }
   ],
   "source": [
    "import numpy as np\n",
    "import matplotlib.pyplot as plt\n",
    "\n",
    "plt.rc('font', size=14)\n",
    "plt.rc('axes', labelsize=14, titlesize=14)\n",
    "plt.rc('legend', fontsize=14)\n",
    "plt.rc('xtick', labelsize=10)\n",
    "plt.rc('ytick', labelsize=10)\n",
    "\n",
    "np.random.seed(42)\n",
    "m = 100\n",
    "X = 6 * np.random.rand(m, 1) - 3                   # -3에서 3 사이의 임의의 값 100개\n",
    "y = 0.5 * X ** 2 + X + 2 + np.random.randn(m, 1)   # 2차 함수 활용. 잡음 추가됨.\n",
    "\n",
    "plt.figure(figsize=(6, 4))\n",
    "plt.plot(X, y, \"b.\")\n",
    "plt.xlabel(\"$x_1$\")\n",
    "plt.ylabel(\"$y$\", rotation=0)\n",
    "plt.axis([-3, 3, 0, 10])\n",
    "plt.grid()\n",
    "plt.show()"
   ]
  },
  {
   "cell_type": "markdown",
   "metadata": {
    "id": "dcQe8qO09BN-"
   },
   "source": [
    "**사이킷런의 `PolynomialFeatures` 변환기**\n",
    "\n",
    "지정된 차수까지 필요한 고차항을 새로운 특성으로 추가한다."
   ]
  },
  {
   "cell_type": "markdown",
   "metadata": {
    "id": "mpVWq27mG4mn"
   },
   "source": [
    "```python\n",
    "from sklearn.preprocessing import PolynomialFeatures\n",
    "\n",
    "poly_features = PolynomialFeatures(degree=2, include_bias=False)\n",
    "X_poly = poly_features.fit_transform(X)\n",
    "```"
   ]
  },
  {
   "cell_type": "code",
   "execution_count": 2,
   "metadata": {
    "id": "3OpUM68O9BN-"
   },
   "outputs": [],
   "source": [
    "from sklearn.preprocessing import PolynomialFeatures\n",
    "\n",
    "poly_features = PolynomialFeatures(degree=2, include_bias=False) # 2차함수로 설정, bias 를 포함 할 건지\n",
    "X_poly = poly_features.fit_transform(X)"
   ]
  },
  {
   "cell_type": "markdown",
   "metadata": {
    "id": "QH6rbyJZG6gG"
   },
   "source": [
    "```python\n",
    "X[0]  # [x1]\n",
    "```"
   ]
  },
  {
   "cell_type": "code",
   "execution_count": 5,
   "metadata": {
    "id": "jBr7M61I9BN-",
    "scrolled": true
   },
   "outputs": [
    {
     "data": {
      "text/plain": [
       "array([[-0.75275929],\n",
       "       [ 2.70428584],\n",
       "       [ 1.39196365],\n",
       "       [ 0.59195091],\n",
       "       [-2.06388816],\n",
       "       [-2.06403288],\n",
       "       [-2.65149833],\n",
       "       [ 2.19705687],\n",
       "       [ 0.60669007],\n",
       "       [ 1.24843547],\n",
       "       [-2.87649303],\n",
       "       [ 2.81945911],\n",
       "       [ 1.99465584],\n",
       "       [-1.72596534],\n",
       "       [-1.9090502 ],\n",
       "       [-1.89957294],\n",
       "       [-1.17454654],\n",
       "       [ 0.14853859],\n",
       "       [-0.40832989],\n",
       "       [-1.25262516],\n",
       "       [ 0.67111737],\n",
       "       [-2.16303684],\n",
       "       [-1.24713211],\n",
       "       [-0.80182894],\n",
       "       [-0.26358009],\n",
       "       [ 1.71105577],\n",
       "       [-1.80195731],\n",
       "       [ 0.08540663],\n",
       "       [ 0.55448741],\n",
       "       [-2.72129752],\n",
       "       [ 0.64526911],\n",
       "       [-1.97685526],\n",
       "       [-2.60969044],\n",
       "       [ 2.69331322],\n",
       "       [ 2.7937922 ],\n",
       "       [ 1.85038409],\n",
       "       [-1.17231738],\n",
       "       [-2.41396732],\n",
       "       [ 1.10539816],\n",
       "       [-0.35908504],\n",
       "       [-2.26777059],\n",
       "       [-0.02893854],\n",
       "       [-2.79366887],\n",
       "       [ 2.45592241],\n",
       "       [-1.44732011],\n",
       "       [ 0.97513371],\n",
       "       [-1.12973354],\n",
       "       [ 0.12040813],\n",
       "       [ 0.28026168],\n",
       "       [-1.89087327],\n",
       "       [ 2.81750777],\n",
       "       [ 1.65079694],\n",
       "       [ 2.63699365],\n",
       "       [ 2.3689641 ],\n",
       "       [ 0.58739987],\n",
       "       [ 2.53124541],\n",
       "       [-2.46904499],\n",
       "       [-1.82410283],\n",
       "       [-2.72863627],\n",
       "       [-1.04801802],\n",
       "       [-0.66793626],\n",
       "       [-1.37190581],\n",
       "       [ 1.97242505],\n",
       "       [-0.85948004],\n",
       "       [-1.31439294],\n",
       "       [ 0.2561765 ],\n",
       "       [-2.15445465],\n",
       "       [ 1.81318188],\n",
       "       [-2.55269614],\n",
       "       [ 2.92132162],\n",
       "       [ 1.63346862],\n",
       "       [-1.80770591],\n",
       "       [-2.9668673 ],\n",
       "       [ 1.89276857],\n",
       "       [ 1.24114406],\n",
       "       [ 1.37404301],\n",
       "       [ 1.62762208],\n",
       "       [-2.55573209],\n",
       "       [-0.84920563],\n",
       "       [-2.30478564],\n",
       "       [ 2.17862056],\n",
       "       [ 0.73978876],\n",
       "       [-1.01461185],\n",
       "       [-2.6186499 ],\n",
       "       [-1.13410607],\n",
       "       [-1.04890007],\n",
       "       [ 1.37763707],\n",
       "       [ 0.82534483],\n",
       "       [ 2.32327646],\n",
       "       [-0.16671045],\n",
       "       [-2.28243452],\n",
       "       [ 1.27946872],\n",
       "       [ 1.56471029],\n",
       "       [ 0.36766319],\n",
       "       [ 1.62580308],\n",
       "       [-0.03722642],\n",
       "       [ 0.13639698],\n",
       "       [-0.43475389],\n",
       "       [-2.84748524],\n",
       "       [-2.35265144]])"
      ]
     },
     "execution_count": 5,
     "metadata": {},
     "output_type": "execute_result"
    }
   ],
   "source": [
    "X"
   ]
  },
  {
   "cell_type": "markdown",
   "metadata": {
    "id": "fPiTyigqG9Du"
   },
   "source": [
    "```python\n",
    "X_poly[0]  # [x1, x2]\n",
    "```"
   ]
  },
  {
   "cell_type": "code",
   "execution_count": 7,
   "metadata": {
    "id": "J4hUbNqo9BN-",
    "scrolled": true
   },
   "outputs": [
    {
     "data": {
      "text/plain": [
       "array([[-7.52759287e-01,  5.66646544e-01],\n",
       "       [ 2.70428584e+00,  7.31316190e+00],\n",
       "       [ 1.39196365e+00,  1.93756281e+00],\n",
       "       [ 5.91950905e-01,  3.50405874e-01],\n",
       "       [-2.06388816e+00,  4.25963433e+00],\n",
       "       [-2.06403288e+00,  4.26023172e+00],\n",
       "       [-2.65149833e+00,  7.03044338e+00],\n",
       "       [ 2.19705687e+00,  4.82705891e+00],\n",
       "       [ 6.06690070e-01,  3.68072842e-01],\n",
       "       [ 1.24843547e+00,  1.55859111e+00],\n",
       "       [-2.87649303e+00,  8.27421218e+00],\n",
       "       [ 2.81945911e+00,  7.94934969e+00],\n",
       "       [ 1.99465584e+00,  3.97865194e+00],\n",
       "       [-1.72596534e+00,  2.97895634e+00],\n",
       "       [-1.90905020e+00,  3.64447265e+00],\n",
       "       [-1.89957294e+00,  3.60837736e+00],\n",
       "       [-1.17454654e+00,  1.37955958e+00],\n",
       "       [ 1.48538590e-01,  2.20637127e-02],\n",
       "       [-4.08329888e-01,  1.66733298e-01],\n",
       "       [-1.25262516e+00,  1.56906979e+00],\n",
       "       [ 6.71117368e-01,  4.50398522e-01],\n",
       "       [-2.16303684e+00,  4.67872835e+00],\n",
       "       [-1.24713211e+00,  1.55533850e+00],\n",
       "       [-8.01828940e-01,  6.42929649e-01],\n",
       "       [-2.63580095e-01,  6.94744663e-02],\n",
       "       [ 1.71105577e+00,  2.92771184e+00],\n",
       "       [-1.80195731e+00,  3.24705014e+00],\n",
       "       [ 8.54066305e-02,  7.29429253e-03],\n",
       "       [ 5.54487413e-01,  3.07456291e-01],\n",
       "       [-2.72129752e+00,  7.40546021e+00],\n",
       "       [ 6.45269111e-01,  4.16372226e-01],\n",
       "       [-1.97685526e+00,  3.90795671e+00],\n",
       "       [-2.60969044e+00,  6.81048420e+00],\n",
       "       [ 2.69331322e+00,  7.25393612e+00],\n",
       "       [ 2.79379220e+00,  7.80527485e+00],\n",
       "       [ 1.85038409e+00,  3.42392128e+00],\n",
       "       [-1.17231738e+00,  1.37432805e+00],\n",
       "       [-2.41396732e+00,  5.82723820e+00],\n",
       "       [ 1.10539816e+00,  1.22190509e+00],\n",
       "       [-3.59085038e-01,  1.28942064e-01],\n",
       "       [-2.26777059e+00,  5.14278345e+00],\n",
       "       [-2.89385393e-02,  8.37439059e-04],\n",
       "       [-2.79366887e+00,  7.80458577e+00],\n",
       "       [ 2.45592241e+00,  6.03155490e+00],\n",
       "       [-1.44732011e+00,  2.09473550e+00],\n",
       "       [ 9.75133706e-01,  9.50885745e-01],\n",
       "       [-1.12973354e+00,  1.27629788e+00],\n",
       "       [ 1.20408127e-01,  1.44981171e-02],\n",
       "       [ 2.80261676e-01,  7.85466071e-02],\n",
       "       [-1.89087327e+00,  3.57540171e+00],\n",
       "       [ 2.81750777e+00,  7.93835001e+00],\n",
       "       [ 1.65079694e+00,  2.72513054e+00],\n",
       "       [ 2.63699365e+00,  6.95373551e+00],\n",
       "       [ 2.36896410e+00,  5.61199092e+00],\n",
       "       [ 5.87399873e-01,  3.45038611e-01],\n",
       "       [ 2.53124541e+00,  6.40720333e+00],\n",
       "       [-2.46904499e+00,  6.09618315e+00],\n",
       "       [-1.82410283e+00,  3.32735112e+00],\n",
       "       [-2.72863627e+00,  7.44545588e+00],\n",
       "       [-1.04801802e+00,  1.09834176e+00],\n",
       "       [-6.67936262e-01,  4.46138850e-01],\n",
       "       [-1.37190581e+00,  1.88212555e+00],\n",
       "       [ 1.97242505e+00,  3.89046060e+00],\n",
       "       [-8.59480040e-01,  7.38705939e-01],\n",
       "       [-1.31439294e+00,  1.72762881e+00],\n",
       "       [ 2.56176499e-01,  6.56263986e-02],\n",
       "       [-2.15445465e+00,  4.64167484e+00],\n",
       "       [ 1.81318188e+00,  3.28762855e+00],\n",
       "       [-2.55269614e+00,  6.51625757e+00],\n",
       "       [ 2.92132162e+00,  8.53412001e+00],\n",
       "       [ 1.63346862e+00,  2.66821972e+00],\n",
       "       [-1.80770591e+00,  3.26780066e+00],\n",
       "       [-2.96686730e+00,  8.80230156e+00],\n",
       "       [ 1.89276857e+00,  3.58257286e+00],\n",
       "       [ 1.24114406e+00,  1.54043859e+00],\n",
       "       [ 1.37404301e+00,  1.88799419e+00],\n",
       "       [ 1.62762208e+00,  2.64915364e+00],\n",
       "       [-2.55573209e+00,  6.53176651e+00],\n",
       "       [-8.49205629e-01,  7.21150200e-01],\n",
       "       [-2.30478564e+00,  5.31203686e+00],\n",
       "       [ 2.17862056e+00,  4.74638752e+00],\n",
       "       [ 7.39788761e-01,  5.47287411e-01],\n",
       "       [-1.01461185e+00,  1.02943721e+00],\n",
       "       [-2.61864990e+00,  6.85732729e+00],\n",
       "       [-1.13410607e+00,  1.28619658e+00],\n",
       "       [-1.04890007e+00,  1.10019135e+00],\n",
       "       [ 1.37763707e+00,  1.89788390e+00],\n",
       "       [ 8.25344828e-01,  6.81194085e-01],\n",
       "       [ 2.32327646e+00,  5.39761349e+00],\n",
       "       [-1.66710449e-01,  2.77923738e-02],\n",
       "       [-2.28243452e+00,  5.20950736e+00],\n",
       "       [ 1.27946872e+00,  1.63704021e+00],\n",
       "       [ 1.56471029e+00,  2.44831830e+00],\n",
       "       [ 3.67663185e-01,  1.35176218e-01],\n",
       "       [ 1.62580308e+00,  2.64323565e+00],\n",
       "       [-3.72264218e-02,  1.38580648e-03],\n",
       "       [ 1.36396976e-01,  1.86041351e-02],\n",
       "       [-4.34753890e-01,  1.89010945e-01],\n",
       "       [-2.84748524e+00,  8.10817219e+00],\n",
       "       [-2.35265144e+00,  5.53496879e+00]])"
      ]
     },
     "execution_count": 7,
     "metadata": {},
     "output_type": "execute_result"
    }
   ],
   "source": [
    "X_poly # x2= x1을 제곱 한 것"
   ]
  },
  {
   "cell_type": "markdown",
   "metadata": {
    "id": "qunbmTcBLqZK"
   },
   "source": [
    "```python\n",
    "poly_features = PolynomialFeatures(degree=3, include_bias=False)\n",
    "X_poly = poly_features.fit_transform([[1], [6], [4]])\n",
    "X_poly\n",
    "```"
   ]
  },
  {
   "cell_type": "code",
   "execution_count": 8,
   "metadata": {
    "id": "hCl37DeULsPC"
   },
   "outputs": [
    {
     "data": {
      "text/plain": [
       "array([[  1.,   1.,   1.],\n",
       "       [  6.,  36., 216.],\n",
       "       [  4.,  16.,  64.]])"
      ]
     },
     "execution_count": 8,
     "metadata": {},
     "output_type": "execute_result"
    }
   ],
   "source": [
    "poly_features = PolynomialFeatures(degree=3, include_bias=False)\n",
    "X_poly = poly_features.fit_transform([[1], [6], [4]])\n",
    "X_poly"
   ]
  },
  {
   "cell_type": "code",
   "execution_count": null,
   "metadata": {},
   "outputs": [],
   "source": [
    "# w0 + w1 * x1\n",
    "# x1= 1 == 3차 -> 1차,2차,3차/ 1, 1, 1\n",
    "# x1 = 6 == 3차 -> 1차, 2차, 3차 / 6, 36, 216"
   ]
  },
  {
   "cell_type": "markdown",
   "metadata": {
    "id": "J5lA-WrULso8"
   },
   "source": [
    "```python\n",
    "poly_features = PolynomialFeatures(degree=3, include_bias=False)\n",
    "X_poly = poly_features.fit_transform([[1, 3], [6, 5], [4, 8]])\n",
    "X_poly\n",
    "```"
   ]
  },
  {
   "cell_type": "code",
   "execution_count": 14,
   "metadata": {
    "id": "82CvsDu0JVtS"
   },
   "outputs": [
    {
     "data": {
      "text/plain": [
       "array([[  1.,   3.,   1.,   3.,   9.,   1.,   3.,   9.,  27.],\n",
       "       [  6.,   5.,  36.,  30.,  25., 216., 180., 150., 125.],\n",
       "       [  4.,   8.,  16.,  32.,  64.,  64., 128., 256., 512.]])"
      ]
     },
     "execution_count": 14,
     "metadata": {},
     "output_type": "execute_result"
    }
   ],
   "source": [
    "poly_features = PolynomialFeatures(degree=3, include_bias=False)\n",
    "X_poly = poly_features.fit_transform([[1, 3],[6,5],[4,8]]) # \n",
    "X_poly"
   ]
  },
  {
   "cell_type": "code",
   "execution_count": null,
   "metadata": {},
   "outputs": [],
   "source": [
    "# x1 = 1, x2 = 3\n",
    "# == 3차 ==> x1, x2, x1^2, x1*x2, x2^2. x1^3, x1^2,x2, x1*x2^2, x2^3"
   ]
  },
  {
   "cell_type": "markdown",
   "metadata": {
    "id": "F1bCaYRs9BN_"
   },
   "source": [
    "이제 선형 회귀 모델을 적용하면 적절한 절편 $\\theta_0$ 과 가중치$\\theta_1$ 과 $\\theta_2$ 를 얻는다.\n",
    "\n",
    "-  `intercept_` 인스턴스 변수: 절편 $\\theta_0$\n",
    "- `coef_` 인스턴스 변수: 가중치 $\\theta_1$ 과 $\\theta_2$ "
   ]
  },
  {
   "cell_type": "markdown",
   "metadata": {
    "id": "sKLT6MwyG_Au"
   },
   "source": [
    "```python\n",
    "lin_reg = LinearRegression()\n",
    "lin_reg.fit(X_poly, y)\n",
    "lin_reg.intercept_, lin_reg.coef_\n",
    "```"
   ]
  },
  {
   "cell_type": "code",
   "execution_count": null,
   "metadata": {
    "colab": {
     "base_uri": "https://localhost:8080/",
     "height": 288
    },
    "id": "64zQsDl79BOA",
    "outputId": "d013765c-f2ee-433a-fb45-c5cf716cb0d5"
   },
   "outputs": [
    {
     "data": {
      "image/png": "[encoded data removed]",
      "text/plain": [
       "<Figure size 432x288 with 1 Axes>"
      ]
     },
     "metadata": {
      "needs_background": "light"
     },
     "output_type": "display_data"
    }
   ],
   "source": [
    "# 2차 함수 그래프 그리기\n",
    "X_new = np.linspace(-3, 3, 100).reshape(100, 1)  # x1 값: -3에서 3 사이를 100등분해서 얻어지는 값.\n",
    "X_new_poly = poly_features.transform(X_new)      # x1**2 추가\n",
    "y_new = lin_reg.predict(X_new_poly)              # 예측 타깃값\n",
    "\n",
    "plt.figure(figsize=(6, 4))\n",
    "plt.plot(X, y, \"b.\")\n",
    "plt.plot(X_new, y_new, \"r-\", linewidth=2, label=\"Predictions\")  # 2차 함수 그래프\n",
    "plt.xlabel(\"$x_1$\")\n",
    "plt.ylabel(\"$y$\", rotation=0)\n",
    "plt.legend(loc=\"upper left\")\n",
    "plt.axis([-3, 3, 0, 10])\n",
    "plt.grid()\n",
    "plt.show()"
   ]
  },
  {
   "cell_type": "code",
   "execution_count": null,
   "metadata": {
    "id": "PTCWmt011Rd9"
   },
   "outputs": [],
   "source": []
  },
  {
   "cell_type": "markdown",
   "metadata": {
    "id": "U6Rd98zlge79"
   },
   "source": [
    "### Polynomial Regression을 이용한 Underfitting, Overfitting 이해\n",
    "* 사이킷런의 아래 문서에서 예제를 차용함\n",
    "* https://scikit-learn.org/stable/auto_examples/model_selection/plot_underfitting_overfitting.html"
   ]
  },
  {
   "cell_type": "markdown",
   "metadata": {
    "id": "19klwyZbge79"
   },
   "source": [
    "**cosine 곡선에 약간의 Noise 변동값을 더하여 실제값 곡선을 만듬**"
   ]
  },
  {
   "cell_type": "code",
   "execution_count": null,
   "metadata": {
    "id": "ERtLoJdAge79"
   },
   "outputs": [],
   "source": [
    "import numpy as np\n",
    "import matplotlib.pyplot as plt\n",
    "from sklearn.pipeline import Pipeline\n",
    "from sklearn.preprocessing import PolynomialFeatures\n",
    "from sklearn.linear_model import LinearRegression\n",
    "from sklearn.model_selection import cross_val_score\n",
    "%matplotlib inline\n",
    "\n",
    "# random 값으로 구성된 X값에 대해 Cosine 변환값을 반환. \n",
    "def true_fun(X):\n",
    "    return np.cos(1.5 * np.pi * X)\n",
    "\n",
    "# X는 0 부터 1까지 30개의 random 값을 순서대로 sampling 한 데이타 입니다.  \n",
    "np.random.seed(0)\n",
    "n_samples = 30\n",
    "X = np.sort(np.random.rand(n_samples))\n",
    "\n",
    "# y 값은 cosine 기반의 true_fun() 에서 약간의 Noise 변동값을 더한 값입니다. \n",
    "y = true_fun(X) + np.random.randn(n_samples) * 0.1s"
   ]
  },
  {
   "cell_type": "code",
   "execution_count": null,
   "metadata": {
    "colab": {
     "base_uri": "https://localhost:8080/",
     "height": 283
    },
    "id": "BtbEmia6ge79",
    "outputId": "6ae5de14-c2d1-41ce-eba7-254a32b0c5e7"
   },
   "outputs": [
    {
     "data": {
      "text/plain": [
       "<matplotlib.collections.PathCollection at 0x7f5daa436ca0>"
      ]
     },
     "execution_count": 24,
     "metadata": {},
     "output_type": "execute_result"
    },
    {
     "data": {
      "image/png": "[encoded data removed]",
      "text/plain": [
       "<Figure size 432x288 with 1 Axes>"
      ]
     },
     "metadata": {
      "needs_background": "light"
     },
     "output_type": "display_data"
    }
   ],
   "source": [
    "plt.scatter(X, y)"
   ]
  },
  {
   "cell_type": "code",
   "execution_count": null,
   "metadata": {
    "colab": {
     "base_uri": "https://localhost:8080/",
     "height": 575
    },
    "id": "f_bMeZ4pge7-",
    "outputId": "2c723edd-b8d5-4b15-a1fe-6f0aff9c2ed2"
   },
   "outputs": [
    {
     "name": "stdout",
     "output_type": "stream",
     "text": [
      "\n",
      "Degree 1 회귀 계수는 [-1.61] 입니다.\n",
      "Degree 1 MSE 는 0.41 입니다.\n",
      "\n",
      "Degree 4 회귀 계수는 [  0.47 -17.79  23.59  -7.26] 입니다.\n",
      "Degree 4 MSE 는 0.04 입니다.\n",
      "\n",
      "Degree 15 회귀 계수는 [-2.98293000e+03  1.03899390e+05 -1.87416123e+06  2.03716219e+07\n",
      " -1.44873283e+08  7.09315363e+08 -2.47065792e+09  6.24561050e+09\n",
      " -1.15676510e+10  1.56894936e+10 -1.54006023e+10  1.06457264e+10\n",
      " -4.91377530e+09  1.35919645e+09 -1.70380786e+08] 입니다.\n",
      "Degree 15 MSE 는 181238256.56 입니다.\n"
     ]
    },
    {
     "data": {
      "image/png": "[encoded data removed]",
      "text/plain": [
       "<Figure size 1008x360 with 3 Axes>"
      ]
     },
     "metadata": {},
     "output_type": "display_data"
    }
   ],
   "source": [
    "plt.figure(figsize=(14, 5))\n",
    "degrees = [1, 4, 15]\n",
    "\n",
    "# 다항 회귀의 차수(degree)를 1, 4, 15로 각각 변화시키면서 비교합니다. \n",
    "for i in range(len(degrees)):\n",
    "    ax = plt.subplot(1, len(degrees), i + 1)\n",
    "    plt.setp(ax, xticks=(), yticks=())\n",
    "    \n",
    "    # 개별 degree별로 Polynomial 변환합니다. \n",
    "    polynomial_features = PolynomialFeatures(degree=degrees[i], include_bias=False)\n",
    "    linear_regression = LinearRegression()\n",
    "    pipeline = Pipeline([(\"polynomial_features\", polynomial_features),\n",
    "                         (\"linear_regression\", linear_regression)])\n",
    "    pipeline.fit(X.reshape(-1, 1), y)\n",
    "    \n",
    "    # 교차 검증으로 다항 회귀를 평가합니다. \n",
    "    scores = cross_val_score(pipeline, X.reshape(-1,1), y,scoring=\"neg_mean_squared_error\", cv=10)\n",
    "    coefficients = pipeline.named_steps['linear_regression'].coef_\n",
    "    print('\\nDegree {0} 회귀 계수는 {1} 입니다.'.format(degrees[i], np.round(coefficients, 2)))\n",
    "    print('Degree {0} MSE 는 {1:.2f} 입니다.'.format(degrees[i] , -1*np.mean(scores)))\n",
    "    \n",
    "    # 0 부터 1까지 테스트 데이터 세트를 100개로 나눠 예측을 수행합니다. \n",
    "    # 테스트 데이터 세트에 회귀 예측을 수행하고 예측 곡선과 실제 곡선을 그려서 비교합니다.  \n",
    "    X_test = np.linspace(0, 1, 100)\n",
    "    # 예측값 곡선\n",
    "    plt.plot(X_test, pipeline.predict(X_test[:, np.newaxis]), label=\"Model\") \n",
    "    # 실제 값 곡선\n",
    "    plt.plot(X_test, true_fun(X_test), '--', label=\"True function\")\n",
    "    plt.scatter(X, y, edgecolor='b', s=20, label=\"Samples\")\n",
    "    \n",
    "    plt.xlabel(\"x\"); plt.ylabel(\"y\"); plt.xlim((0, 1)); plt.ylim((-2, 2)); plt.legend(loc=\"best\")\n",
    "    plt.title(\"Degree {}\\nMSE = {:.2e}(+/- {:.2e})\".format(degrees[i], -scores.mean(), scores.std()))\n",
    "\n",
    "plt.show()\n",
    "\n",
    "# 차수가 상승할 수록 학습데이터에는 피팅이 잘 되지만 새로운 데이터가 들어오면 맞추기 힘듬 즉 일반화가 되지 못한 모델이 나옴"
   ]
  },
  {
   "cell_type": "code",
   "execution_count": null,
   "metadata": {
    "id": "JH-KliQM13nu"
   },
   "outputs": [],
   "source": []
  }
 ],
 "metadata": {
  "colab": {
   "provenance": []
  },
  "kernelspec": {
   "display_name": "Python 3 (ipykernel)",
   "language": "python",
   "name": "python3"
  },
  "language_info": {
   "codemirror_mode": {
    "name": "ipython",
    "version": 3
   },
   "file_extension": ".py",
   "mimetype": "text/x-python",
   "name": "python",
   "nbconvert_exporter": "python",
   "pygments_lexer": "ipython3",
   "version": "3.9.13"
  }
 },
 "nbformat": 4,
 "nbformat_minor": 1
}
