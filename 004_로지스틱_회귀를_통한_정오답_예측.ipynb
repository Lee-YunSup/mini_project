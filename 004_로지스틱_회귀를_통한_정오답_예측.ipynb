{
 "cells": [
  {
   "cell_type": "markdown",
   "metadata": {
    "id": "7FfN6Fs1oBNg"
   },
   "source": [
    "## 로지스틱 회귀"
   ]
  },
  {
   "cell_type": "code",
   "execution_count": 1,
   "metadata": {
    "id": "7FlU9jfENP05"
   },
   "outputs": [],
   "source": [
    "import pandas as pd\n",
    "import matplotlib.pyplot as plt\n",
    "%matplotlib inline\n",
    "\n",
    "from sklearn.linear_model import LogisticRegression"
   ]
  },
  {
   "cell_type": "markdown",
   "metadata": {
    "id": "7zr8_ghgNMSP"
   },
   "source": [
    "```python\n",
    "df = pd.read_csv('./datasets/초등_4학년_수학_차시문항풀이이력.csv', index_col=0)\n",
    "pd.set_option('display.max_columns', len(df.columns))\n",
    "df.head()\n",
    "```"
   ]
  },
  {
   "cell_type": "code",
   "execution_count": 2,
   "metadata": {
    "id": "dPUQYPuFoBNi"
   },
   "outputs": [
    {
     "data": {
      "text/html": [
       "<div>\n",
       "<style scoped>\n",
       "    .dataframe tbody tr th:only-of-type {\n",
       "        vertical-align: middle;\n",
       "    }\n",
       "\n",
       "    .dataframe tbody tr th {\n",
       "        vertical-align: top;\n",
       "    }\n",
       "\n",
       "    .dataframe thead th {\n",
       "        text-align: right;\n",
       "    }\n",
       "</style>\n",
       "<table border=\"1\" class=\"dataframe\">\n",
       "  <thead>\n",
       "    <tr style=\"text-align: right;\">\n",
       "      <th></th>\n",
       "      <th>사용자ID</th>\n",
       "      <th>차시코드</th>\n",
       "      <th>단원코드</th>\n",
       "      <th>단원제목</th>\n",
       "      <th>강의내용</th>\n",
       "      <th>강의명</th>\n",
       "      <th>학년</th>\n",
       "      <th>학기</th>\n",
       "      <th>시험구분</th>\n",
       "      <th>강의구분</th>\n",
       "      <th>강의타입</th>\n",
       "      <th>동영상재생시간</th>\n",
       "      <th>실제재생시간</th>\n",
       "      <th>확인문제점수</th>\n",
       "      <th>학습일</th>\n",
       "      <th>문항번호</th>\n",
       "      <th>문항코드</th>\n",
       "      <th>사용자입력</th>\n",
       "      <th>정오답</th>\n",
       "      <th>영역</th>\n",
       "      <th>대단원코드</th>\n",
       "      <th>대단원제목</th>\n",
       "      <th>중단원코드</th>\n",
       "      <th>중단원제목</th>\n",
       "      <th>소단원코드</th>\n",
       "      <th>소단원제목</th>\n",
       "      <th>토픽코드</th>\n",
       "      <th>토픽제목</th>\n",
       "      <th>난이도</th>\n",
       "      <th>평가영역</th>\n",
       "    </tr>\n",
       "  </thead>\n",
       "  <tbody>\n",
       "    <tr>\n",
       "      <th>0</th>\n",
       "      <td>62fbd7b7-6a32-4da2-b203-acdec95e00b2</td>\n",
       "      <td>T0ME41U43001</td>\n",
       "      <td>T0ME41U43</td>\n",
       "      <td>1학기 복습</td>\n",
       "      <td>만, 다섯 자리 수 알아보기</td>\n",
       "      <td>수학 1단원 【복습①】</td>\n",
       "      <td>4</td>\n",
       "      <td>1</td>\n",
       "      <td>NaN</td>\n",
       "      <td>E</td>\n",
       "      <td>AAA</td>\n",
       "      <td>0</td>\n",
       "      <td>8</td>\n",
       "      <td>-1</td>\n",
       "      <td>2022-07-04 21:00:03</td>\n",
       "      <td>1.0</td>\n",
       "      <td>30016642.0</td>\n",
       "      <td>10000</td>\n",
       "      <td>O</td>\n",
       "      <td>MA</td>\n",
       "      <td>17120995.0</td>\n",
       "      <td>1. 큰 수</td>\n",
       "      <td>14201237.0</td>\n",
       "      <td>다섯 자리 수</td>\n",
       "      <td>12233514.0</td>\n",
       "      <td>다섯 자리 수의 이해</td>\n",
       "      <td>12234054.0</td>\n",
       "      <td>모형 돈 세어 보기</td>\n",
       "      <td>2.0</td>\n",
       "      <td>91.0</td>\n",
       "    </tr>\n",
       "    <tr>\n",
       "      <th>1</th>\n",
       "      <td>62fbd7b7-6a32-4da2-b203-acdec95e00b2</td>\n",
       "      <td>T0ME41U43001</td>\n",
       "      <td>T0ME41U43</td>\n",
       "      <td>1학기 복습</td>\n",
       "      <td>만, 다섯 자리 수 알아보기</td>\n",
       "      <td>수학 1단원 【복습①】</td>\n",
       "      <td>4</td>\n",
       "      <td>1</td>\n",
       "      <td>NaN</td>\n",
       "      <td>E</td>\n",
       "      <td>AAA</td>\n",
       "      <td>0</td>\n",
       "      <td>8</td>\n",
       "      <td>-1</td>\n",
       "      <td>2022-07-04 21:00:03</td>\n",
       "      <td>2.0</td>\n",
       "      <td>30016654.0</td>\n",
       "      <td>1000/^ROW^/100/^ROW^/10/^ROW^/1</td>\n",
       "      <td>O</td>\n",
       "      <td>MA</td>\n",
       "      <td>17120995.0</td>\n",
       "      <td>1. 큰 수</td>\n",
       "      <td>14201237.0</td>\n",
       "      <td>다섯 자리 수</td>\n",
       "      <td>12233514.0</td>\n",
       "      <td>다섯 자리 수의 이해</td>\n",
       "      <td>12233718.0</td>\n",
       "      <td>10000 알아보기</td>\n",
       "      <td>2.0</td>\n",
       "      <td>91.0</td>\n",
       "    </tr>\n",
       "    <tr>\n",
       "      <th>2</th>\n",
       "      <td>62fbd7b7-6a32-4da2-b203-acdec95e00b2</td>\n",
       "      <td>T0ME41U43001</td>\n",
       "      <td>T0ME41U43</td>\n",
       "      <td>1학기 복습</td>\n",
       "      <td>만, 다섯 자리 수 알아보기</td>\n",
       "      <td>수학 1단원 【복습①】</td>\n",
       "      <td>4</td>\n",
       "      <td>1</td>\n",
       "      <td>NaN</td>\n",
       "      <td>E</td>\n",
       "      <td>AAA</td>\n",
       "      <td>0</td>\n",
       "      <td>8</td>\n",
       "      <td>-1</td>\n",
       "      <td>2022-07-04 21:00:03</td>\n",
       "      <td>3.0</td>\n",
       "      <td>30016589.0</td>\n",
       "      <td>713758/^ROW^/칠만십삼천칠배오십팔</td>\n",
       "      <td>X</td>\n",
       "      <td>MA</td>\n",
       "      <td>17120995.0</td>\n",
       "      <td>1. 큰 수</td>\n",
       "      <td>14201237.0</td>\n",
       "      <td>다섯 자리 수</td>\n",
       "      <td>12233514.0</td>\n",
       "      <td>다섯 자리 수의 이해</td>\n",
       "      <td>12234058.0</td>\n",
       "      <td>10000이 ■, 1000이 ▲ ……인 다섯 자리 수를 나타내기</td>\n",
       "      <td>2.0</td>\n",
       "      <td>91.0</td>\n",
       "    </tr>\n",
       "    <tr>\n",
       "      <th>3</th>\n",
       "      <td>62fbd7b7-6a32-4da2-b203-acdec95e00b2</td>\n",
       "      <td>T0ME41U43001</td>\n",
       "      <td>T0ME41U43</td>\n",
       "      <td>1학기 복습</td>\n",
       "      <td>만, 다섯 자리 수 알아보기</td>\n",
       "      <td>수학 1단원 【복습①】</td>\n",
       "      <td>4</td>\n",
       "      <td>1</td>\n",
       "      <td>NaN</td>\n",
       "      <td>E</td>\n",
       "      <td>AAA</td>\n",
       "      <td>0</td>\n",
       "      <td>8</td>\n",
       "      <td>-1</td>\n",
       "      <td>2022-07-04 21:00:03</td>\n",
       "      <td>4.0</td>\n",
       "      <td>30016571.0</td>\n",
       "      <td>60000/^ROW^/3000/^ROW^/100/^ROW^/90/^ROW^/7</td>\n",
       "      <td>O</td>\n",
       "      <td>MA</td>\n",
       "      <td>17120995.0</td>\n",
       "      <td>1. 큰 수</td>\n",
       "      <td>14201237.0</td>\n",
       "      <td>다섯 자리 수</td>\n",
       "      <td>12233515.0</td>\n",
       "      <td>다섯 자리 수의 자릿값</td>\n",
       "      <td>12233721.0</td>\n",
       "      <td>각 자릿수의 합으로 나타내기</td>\n",
       "      <td>3.0</td>\n",
       "      <td>91.0</td>\n",
       "    </tr>\n",
       "    <tr>\n",
       "      <th>4</th>\n",
       "      <td>62fbd7b7-6a32-4da2-b203-acdec95e00b2</td>\n",
       "      <td>T0ME41U43001</td>\n",
       "      <td>T0ME41U43</td>\n",
       "      <td>1학기 복습</td>\n",
       "      <td>만, 다섯 자리 수 알아보기</td>\n",
       "      <td>수학 1단원 【복습①】</td>\n",
       "      <td>4</td>\n",
       "      <td>1</td>\n",
       "      <td>NaN</td>\n",
       "      <td>E</td>\n",
       "      <td>AAA</td>\n",
       "      <td>0</td>\n",
       "      <td>8</td>\n",
       "      <td>-1</td>\n",
       "      <td>2022-07-04 21:00:03</td>\n",
       "      <td>5.0</td>\n",
       "      <td>30016608.0</td>\n",
       "      <td>천/^ROW^/2000</td>\n",
       "      <td>O</td>\n",
       "      <td>MA</td>\n",
       "      <td>17120995.0</td>\n",
       "      <td>1. 큰 수</td>\n",
       "      <td>14201237.0</td>\n",
       "      <td>다섯 자리 수</td>\n",
       "      <td>12233515.0</td>\n",
       "      <td>다섯 자리 수의 자릿값</td>\n",
       "      <td>12233719.0</td>\n",
       "      <td>각 자리의 숫자와 나타내는 값 알아보기</td>\n",
       "      <td>3.0</td>\n",
       "      <td>91.0</td>\n",
       "    </tr>\n",
       "  </tbody>\n",
       "</table>\n",
       "</div>"
      ],
      "text/plain": [
       "                                  사용자ID          차시코드       단원코드    단원제목  \\\n",
       "0  62fbd7b7-6a32-4da2-b203-acdec95e00b2  T0ME41U43001  T0ME41U43  1학기 복습   \n",
       "1  62fbd7b7-6a32-4da2-b203-acdec95e00b2  T0ME41U43001  T0ME41U43  1학기 복습   \n",
       "2  62fbd7b7-6a32-4da2-b203-acdec95e00b2  T0ME41U43001  T0ME41U43  1학기 복습   \n",
       "3  62fbd7b7-6a32-4da2-b203-acdec95e00b2  T0ME41U43001  T0ME41U43  1학기 복습   \n",
       "4  62fbd7b7-6a32-4da2-b203-acdec95e00b2  T0ME41U43001  T0ME41U43  1학기 복습   \n",
       "\n",
       "              강의내용           강의명  학년  학기  시험구분 강의구분 강의타입  동영상재생시간  실제재생시간  \\\n",
       "0  만, 다섯 자리 수 알아보기  수학 1단원 【복습①】   4   1   NaN    E  AAA        0       8   \n",
       "1  만, 다섯 자리 수 알아보기  수학 1단원 【복습①】   4   1   NaN    E  AAA        0       8   \n",
       "2  만, 다섯 자리 수 알아보기  수학 1단원 【복습①】   4   1   NaN    E  AAA        0       8   \n",
       "3  만, 다섯 자리 수 알아보기  수학 1단원 【복습①】   4   1   NaN    E  AAA        0       8   \n",
       "4  만, 다섯 자리 수 알아보기  수학 1단원 【복습①】   4   1   NaN    E  AAA        0       8   \n",
       "\n",
       "   확인문제점수                  학습일  문항번호        문항코드  \\\n",
       "0      -1  2022-07-04 21:00:03   1.0  30016642.0   \n",
       "1      -1  2022-07-04 21:00:03   2.0  30016654.0   \n",
       "2      -1  2022-07-04 21:00:03   3.0  30016589.0   \n",
       "3      -1  2022-07-04 21:00:03   4.0  30016571.0   \n",
       "4      -1  2022-07-04 21:00:03   5.0  30016608.0   \n",
       "\n",
       "                                         사용자입력 정오답  영역       대단원코드   대단원제목  \\\n",
       "0                                        10000   O  MA  17120995.0  1. 큰 수   \n",
       "1              1000/^ROW^/100/^ROW^/10/^ROW^/1   O  MA  17120995.0  1. 큰 수   \n",
       "2                      713758/^ROW^/칠만십삼천칠배오십팔   X  MA  17120995.0  1. 큰 수   \n",
       "3  60000/^ROW^/3000/^ROW^/100/^ROW^/90/^ROW^/7   O  MA  17120995.0  1. 큰 수   \n",
       "4                                 천/^ROW^/2000   O  MA  17120995.0  1. 큰 수   \n",
       "\n",
       "        중단원코드    중단원제목       소단원코드         소단원제목        토픽코드  \\\n",
       "0  14201237.0  다섯 자리 수  12233514.0   다섯 자리 수의 이해  12234054.0   \n",
       "1  14201237.0  다섯 자리 수  12233514.0   다섯 자리 수의 이해  12233718.0   \n",
       "2  14201237.0  다섯 자리 수  12233514.0   다섯 자리 수의 이해  12234058.0   \n",
       "3  14201237.0  다섯 자리 수  12233515.0  다섯 자리 수의 자릿값  12233721.0   \n",
       "4  14201237.0  다섯 자리 수  12233515.0  다섯 자리 수의 자릿값  12233719.0   \n",
       "\n",
       "                                  토픽제목  난이도  평가영역  \n",
       "0                           모형 돈 세어 보기  2.0  91.0  \n",
       "1                           10000 알아보기  2.0  91.0  \n",
       "2  10000이 ■, 1000이 ▲ ……인 다섯 자리 수를 나타내기  2.0  91.0  \n",
       "3                      각 자릿수의 합으로 나타내기  3.0  91.0  \n",
       "4                각 자리의 숫자와 나타내는 값 알아보기  3.0  91.0  "
      ]
     },
     "execution_count": 2,
     "metadata": {},
     "output_type": "execute_result"
    }
   ],
   "source": [
    "df = pd.read_csv('./초등_4학년_수학_차시문항풀이이력.csv', index_col=0)\n",
    "pd.set_option('display.max_columns', len(df.columns))\n",
    "df.head()"
   ]
  },
  {
   "cell_type": "markdown",
   "metadata": {
    "id": "9jOiuGxDNSQJ"
   },
   "source": [
    "```python\n",
    "df['정오답'] =  df['정오답'].map({'O': 1, 'X': 0})\n",
    "```"
   ]
  },
  {
   "cell_type": "code",
   "execution_count": 3,
   "metadata": {
    "id": "lzTtdFCjoBNj"
   },
   "outputs": [],
   "source": [
    "df['정오답'] =  df['정오답'].map({'O': 1, 'X': 0})"
   ]
  },
  {
   "cell_type": "code",
   "execution_count": null,
   "metadata": {
    "id": "FytUUdjBNT7X"
   },
   "outputs": [],
   "source": []
  },
  {
   "cell_type": "markdown",
   "metadata": {
    "id": "IUVw6unkNVjc"
   },
   "source": [
    "Q. 어떤 피쳐가 정오답에 영향을 미칠까?"
   ]
  },
  {
   "cell_type": "markdown",
   "metadata": {
    "id": "d8_Xb2iSNUI3"
   },
   "source": [
    "```python\n",
    "df = df[['정오답', '강의타입', '동영상재생시간', '실제재생시간', '학습일', '문항코드', '대단원코드', '중단원코드', '소단원코드', '토픽코드', '난이도', '평가영역']]\n",
    "```"
   ]
  },
  {
   "cell_type": "code",
   "execution_count": 4,
   "metadata": {
    "id": "3Aot3arYNT1F"
   },
   "outputs": [],
   "source": [
    "df = df[['정오답', '강의타입', '동영상재생시간', '실제재생시간', '학습일', '문항코드', '대단원코드', '중단원코드', '소단원코드', '토픽코드', '난이도', '평가영역']]"
   ]
  },
  {
   "cell_type": "code",
   "execution_count": 5,
   "metadata": {
    "id": "BA-M7JWgoBNj"
   },
   "outputs": [],
   "source": [
    "df = df.dropna(subset=['정오답'])"
   ]
  },
  {
   "cell_type": "markdown",
   "metadata": {
    "id": "YtzB-2gENaOn"
   },
   "source": [
    "```python\n",
    "df = df.dropna(subset=['정오답'])\n",
    "```"
   ]
  },
  {
   "cell_type": "code",
   "execution_count": 6,
   "metadata": {
    "id": "heWszFzgoBNk",
    "scrolled": true
   },
   "outputs": [],
   "source": [
    "df['학습일'] = df.학습일.apply(pd.to_datetime)\n",
    "df['hour'] = df.학습일.apply(lambda x: x.hour)"
   ]
  },
  {
   "cell_type": "markdown",
   "metadata": {
    "id": "MeCZH4HSNfmU"
   },
   "source": [
    "```python\n",
    "df['학습일'] = df.학습일.apply(pd.to_datetime)\n",
    "df['hour'] = df.학습일.apply(lambda x: x.hour)\n",
    "```"
   ]
  },
  {
   "cell_type": "code",
   "execution_count": 7,
   "metadata": {
    "id": "kW9lYuqcoBNk",
    "scrolled": true
   },
   "outputs": [],
   "source": [
    "df = pd.get_dummies(df, columns=['강의타입', '문항코드', '대단원코드', '중단원코드', '소단원코드', '토픽코드', '난이도', '평가영역', 'hour'])"
   ]
  },
  {
   "cell_type": "markdown",
   "metadata": {
    "id": "AKSykduENicx"
   },
   "source": [
    "카테고리형 변수 원핫인코딩"
   ]
  },
  {
   "cell_type": "markdown",
   "metadata": {
    "id": "9NPk7AbtNhR5"
   },
   "source": [
    "```python\n",
    "df = pd.get_dummies(df, columns=['강의타입', '문항코드', '대단원코드', '중단원코드', '소단원코드', '토픽코드', '난이도', '평가영역', 'hour'])\n",
    "```"
   ]
  },
  {
   "cell_type": "code",
   "execution_count": 8,
   "metadata": {
    "id": "altt70dVoBNk"
   },
   "outputs": [
    {
     "data": {
      "text/html": [
       "<div>\n",
       "<style scoped>\n",
       "    .dataframe tbody tr th:only-of-type {\n",
       "        vertical-align: middle;\n",
       "    }\n",
       "\n",
       "    .dataframe tbody tr th {\n",
       "        vertical-align: top;\n",
       "    }\n",
       "\n",
       "    .dataframe thead th {\n",
       "        text-align: right;\n",
       "    }\n",
       "</style>\n",
       "<table border=\"1\" class=\"dataframe\">\n",
       "  <thead>\n",
       "    <tr style=\"text-align: right;\">\n",
       "      <th></th>\n",
       "      <th>정오답</th>\n",
       "      <th>동영상재생시간</th>\n",
       "      <th>실제재생시간</th>\n",
       "      <th>학습일</th>\n",
       "      <th>강의타입_AAA</th>\n",
       "      <th>강의타입_AAB</th>\n",
       "      <th>강의타입_AAC</th>\n",
       "      <th>강의타입_AAD</th>\n",
       "      <th>강의타입_E</th>\n",
       "      <th>강의타입_GAA</th>\n",
       "      <th>강의타입_GAI</th>\n",
       "      <th>강의타입_GAJ</th>\n",
       "      <th>강의타입_GAN</th>\n",
       "      <th>강의타입_GAP</th>\n",
       "      <th>강의타입_GBA</th>\n",
       "      <th>...</th>\n",
       "      <th>hour_9</th>\n",
       "      <th>hour_10</th>\n",
       "      <th>hour_11</th>\n",
       "      <th>hour_12</th>\n",
       "      <th>hour_13</th>\n",
       "      <th>hour_14</th>\n",
       "      <th>hour_15</th>\n",
       "      <th>hour_16</th>\n",
       "      <th>hour_17</th>\n",
       "      <th>hour_18</th>\n",
       "      <th>hour_19</th>\n",
       "      <th>hour_20</th>\n",
       "      <th>hour_21</th>\n",
       "      <th>hour_22</th>\n",
       "      <th>hour_23</th>\n",
       "    </tr>\n",
       "  </thead>\n",
       "  <tbody>\n",
       "    <tr>\n",
       "      <th>0</th>\n",
       "      <td>1.0</td>\n",
       "      <td>0</td>\n",
       "      <td>8</td>\n",
       "      <td>2022-07-04 21:00:03</td>\n",
       "      <td>1</td>\n",
       "      <td>0</td>\n",
       "      <td>0</td>\n",
       "      <td>0</td>\n",
       "      <td>0</td>\n",
       "      <td>0</td>\n",
       "      <td>0</td>\n",
       "      <td>0</td>\n",
       "      <td>0</td>\n",
       "      <td>0</td>\n",
       "      <td>0</td>\n",
       "      <td>...</td>\n",
       "      <td>0</td>\n",
       "      <td>0</td>\n",
       "      <td>0</td>\n",
       "      <td>0</td>\n",
       "      <td>0</td>\n",
       "      <td>0</td>\n",
       "      <td>0</td>\n",
       "      <td>0</td>\n",
       "      <td>0</td>\n",
       "      <td>0</td>\n",
       "      <td>0</td>\n",
       "      <td>0</td>\n",
       "      <td>1</td>\n",
       "      <td>0</td>\n",
       "      <td>0</td>\n",
       "    </tr>\n",
       "    <tr>\n",
       "      <th>1</th>\n",
       "      <td>1.0</td>\n",
       "      <td>0</td>\n",
       "      <td>8</td>\n",
       "      <td>2022-07-04 21:00:03</td>\n",
       "      <td>1</td>\n",
       "      <td>0</td>\n",
       "      <td>0</td>\n",
       "      <td>0</td>\n",
       "      <td>0</td>\n",
       "      <td>0</td>\n",
       "      <td>0</td>\n",
       "      <td>0</td>\n",
       "      <td>0</td>\n",
       "      <td>0</td>\n",
       "      <td>0</td>\n",
       "      <td>...</td>\n",
       "      <td>0</td>\n",
       "      <td>0</td>\n",
       "      <td>0</td>\n",
       "      <td>0</td>\n",
       "      <td>0</td>\n",
       "      <td>0</td>\n",
       "      <td>0</td>\n",
       "      <td>0</td>\n",
       "      <td>0</td>\n",
       "      <td>0</td>\n",
       "      <td>0</td>\n",
       "      <td>0</td>\n",
       "      <td>1</td>\n",
       "      <td>0</td>\n",
       "      <td>0</td>\n",
       "    </tr>\n",
       "    <tr>\n",
       "      <th>2</th>\n",
       "      <td>0.0</td>\n",
       "      <td>0</td>\n",
       "      <td>8</td>\n",
       "      <td>2022-07-04 21:00:03</td>\n",
       "      <td>1</td>\n",
       "      <td>0</td>\n",
       "      <td>0</td>\n",
       "      <td>0</td>\n",
       "      <td>0</td>\n",
       "      <td>0</td>\n",
       "      <td>0</td>\n",
       "      <td>0</td>\n",
       "      <td>0</td>\n",
       "      <td>0</td>\n",
       "      <td>0</td>\n",
       "      <td>...</td>\n",
       "      <td>0</td>\n",
       "      <td>0</td>\n",
       "      <td>0</td>\n",
       "      <td>0</td>\n",
       "      <td>0</td>\n",
       "      <td>0</td>\n",
       "      <td>0</td>\n",
       "      <td>0</td>\n",
       "      <td>0</td>\n",
       "      <td>0</td>\n",
       "      <td>0</td>\n",
       "      <td>0</td>\n",
       "      <td>1</td>\n",
       "      <td>0</td>\n",
       "      <td>0</td>\n",
       "    </tr>\n",
       "  </tbody>\n",
       "</table>\n",
       "<p>3 rows × 1451 columns</p>\n",
       "</div>"
      ],
      "text/plain": [
       "   정오답  동영상재생시간  실제재생시간                 학습일  강의타입_AAA  강의타입_AAB  강의타입_AAC  \\\n",
       "0  1.0        0       8 2022-07-04 21:00:03         1         0         0   \n",
       "1  1.0        0       8 2022-07-04 21:00:03         1         0         0   \n",
       "2  0.0        0       8 2022-07-04 21:00:03         1         0         0   \n",
       "\n",
       "   강의타입_AAD  강의타입_E  강의타입_GAA  강의타입_GAI  강의타입_GAJ  강의타입_GAN  강의타입_GAP  \\\n",
       "0         0       0         0         0         0         0         0   \n",
       "1         0       0         0         0         0         0         0   \n",
       "2         0       0         0         0         0         0         0   \n",
       "\n",
       "   강의타입_GBA  ...  hour_9  hour_10  hour_11  hour_12  hour_13  hour_14  \\\n",
       "0         0  ...       0        0        0        0        0        0   \n",
       "1         0  ...       0        0        0        0        0        0   \n",
       "2         0  ...       0        0        0        0        0        0   \n",
       "\n",
       "   hour_15  hour_16  hour_17  hour_18  hour_19  hour_20  hour_21  hour_22  \\\n",
       "0        0        0        0        0        0        0        1        0   \n",
       "1        0        0        0        0        0        0        1        0   \n",
       "2        0        0        0        0        0        0        1        0   \n",
       "\n",
       "   hour_23  \n",
       "0        0  \n",
       "1        0  \n",
       "2        0  \n",
       "\n",
       "[3 rows x 1451 columns]"
      ]
     },
     "execution_count": 8,
     "metadata": {},
     "output_type": "execute_result"
    }
   ],
   "source": [
    "df.head(3)"
   ]
  },
  {
   "cell_type": "markdown",
   "metadata": {
    "id": "a8auk5HNNmj-"
   },
   "source": [
    "```python\n",
    "df = df.drop(labels='학습일', axis=1)\n",
    "```"
   ]
  },
  {
   "cell_type": "code",
   "execution_count": 9,
   "metadata": {},
   "outputs": [],
   "source": [
    "df = df.drop(labels='학습일', axis=1)"
   ]
  },
  {
   "cell_type": "code",
   "execution_count": 10,
   "metadata": {
    "id": "XTK0PZb-NqPr"
   },
   "outputs": [
    {
     "ename": "MemoryError",
     "evalue": "Unable to allocate 1018. MiB for an array with shape (1449, 92125) and data type int64",
     "output_type": "error",
     "traceback": [
      "\u001b[1;31m---------------------------------------------------------------------------\u001b[0m",
      "\u001b[1;31mMemoryError\u001b[0m                               Traceback (most recent call last)",
      "\u001b[1;32m~\\AppData\\Local\\Temp\\ipykernel_1860\\3117095837.py\u001b[0m in \u001b[0;36m<module>\u001b[1;34m\u001b[0m\n\u001b[1;32m----> 1\u001b[1;33m \u001b[0mX\u001b[0m \u001b[1;33m=\u001b[0m \u001b[0mdf\u001b[0m\u001b[1;33m.\u001b[0m\u001b[0miloc\u001b[0m\u001b[1;33m[\u001b[0m\u001b[1;33m:\u001b[0m\u001b[1;33m,\u001b[0m\u001b[1;36m1\u001b[0m\u001b[1;33m:\u001b[0m\u001b[1;33m]\u001b[0m\u001b[1;33m.\u001b[0m\u001b[0mto_numpy\u001b[0m\u001b[1;33m(\u001b[0m\u001b[1;33m)\u001b[0m\u001b[1;33m\u001b[0m\u001b[1;33m\u001b[0m\u001b[0m\n\u001b[0m\u001b[0;32m      2\u001b[0m \u001b[0mY\u001b[0m \u001b[1;33m=\u001b[0m \u001b[0mdf\u001b[0m\u001b[1;33m[\u001b[0m\u001b[1;34m'정오답'\u001b[0m\u001b[1;33m]\u001b[0m\u001b[1;33m.\u001b[0m\u001b[0mto_numpy\u001b[0m\u001b[1;33m(\u001b[0m\u001b[1;33m)\u001b[0m\u001b[1;33m\u001b[0m\u001b[1;33m\u001b[0m\u001b[0m\n",
      "\u001b[1;32mC:\\ProgramData\\Anaconda3\\lib\\site-packages\\pandas\\core\\frame.py\u001b[0m in \u001b[0;36mto_numpy\u001b[1;34m(self, dtype, copy, na_value)\u001b[0m\n\u001b[0;32m   1754\u001b[0m         \u001b[1;32mif\u001b[0m \u001b[0mdtype\u001b[0m \u001b[1;32mis\u001b[0m \u001b[1;32mnot\u001b[0m \u001b[1;32mNone\u001b[0m\u001b[1;33m:\u001b[0m\u001b[1;33m\u001b[0m\u001b[1;33m\u001b[0m\u001b[0m\n\u001b[0;32m   1755\u001b[0m             \u001b[0mdtype\u001b[0m \u001b[1;33m=\u001b[0m \u001b[0mnp\u001b[0m\u001b[1;33m.\u001b[0m\u001b[0mdtype\u001b[0m\u001b[1;33m(\u001b[0m\u001b[0mdtype\u001b[0m\u001b[1;33m)\u001b[0m\u001b[1;33m\u001b[0m\u001b[1;33m\u001b[0m\u001b[0m\n\u001b[1;32m-> 1756\u001b[1;33m         \u001b[0mresult\u001b[0m \u001b[1;33m=\u001b[0m \u001b[0mself\u001b[0m\u001b[1;33m.\u001b[0m\u001b[0m_mgr\u001b[0m\u001b[1;33m.\u001b[0m\u001b[0mas_array\u001b[0m\u001b[1;33m(\u001b[0m\u001b[0mdtype\u001b[0m\u001b[1;33m=\u001b[0m\u001b[0mdtype\u001b[0m\u001b[1;33m,\u001b[0m \u001b[0mcopy\u001b[0m\u001b[1;33m=\u001b[0m\u001b[0mcopy\u001b[0m\u001b[1;33m,\u001b[0m \u001b[0mna_value\u001b[0m\u001b[1;33m=\u001b[0m\u001b[0mna_value\u001b[0m\u001b[1;33m)\u001b[0m\u001b[1;33m\u001b[0m\u001b[1;33m\u001b[0m\u001b[0m\n\u001b[0m\u001b[0;32m   1757\u001b[0m         \u001b[1;32mif\u001b[0m \u001b[0mresult\u001b[0m\u001b[1;33m.\u001b[0m\u001b[0mdtype\u001b[0m \u001b[1;32mis\u001b[0m \u001b[1;32mnot\u001b[0m \u001b[0mdtype\u001b[0m\u001b[1;33m:\u001b[0m\u001b[1;33m\u001b[0m\u001b[1;33m\u001b[0m\u001b[0m\n\u001b[0;32m   1758\u001b[0m             \u001b[0mresult\u001b[0m \u001b[1;33m=\u001b[0m \u001b[0mnp\u001b[0m\u001b[1;33m.\u001b[0m\u001b[0marray\u001b[0m\u001b[1;33m(\u001b[0m\u001b[0mresult\u001b[0m\u001b[1;33m,\u001b[0m \u001b[0mdtype\u001b[0m\u001b[1;33m=\u001b[0m\u001b[0mdtype\u001b[0m\u001b[1;33m,\u001b[0m \u001b[0mcopy\u001b[0m\u001b[1;33m=\u001b[0m\u001b[1;32mFalse\u001b[0m\u001b[1;33m)\u001b[0m\u001b[1;33m\u001b[0m\u001b[1;33m\u001b[0m\u001b[0m\n",
      "\u001b[1;32mC:\\ProgramData\\Anaconda3\\lib\\site-packages\\pandas\\core\\internals\\managers.py\u001b[0m in \u001b[0;36mas_array\u001b[1;34m(self, dtype, copy, na_value)\u001b[0m\n\u001b[0;32m   1597\u001b[0m                     \u001b[0marr\u001b[0m \u001b[1;33m=\u001b[0m \u001b[0marr\u001b[0m\u001b[1;33m.\u001b[0m\u001b[0mastype\u001b[0m\u001b[1;33m(\u001b[0m\u001b[0mdtype\u001b[0m\u001b[1;33m,\u001b[0m \u001b[0mcopy\u001b[0m\u001b[1;33m=\u001b[0m\u001b[1;32mFalse\u001b[0m\u001b[1;33m)\u001b[0m\u001b[1;33m\u001b[0m\u001b[1;33m\u001b[0m\u001b[0m\n\u001b[0;32m   1598\u001b[0m         \u001b[1;32melse\u001b[0m\u001b[1;33m:\u001b[0m\u001b[1;33m\u001b[0m\u001b[1;33m\u001b[0m\u001b[0m\n\u001b[1;32m-> 1599\u001b[1;33m             \u001b[0marr\u001b[0m \u001b[1;33m=\u001b[0m \u001b[0mself\u001b[0m\u001b[1;33m.\u001b[0m\u001b[0m_interleave\u001b[0m\u001b[1;33m(\u001b[0m\u001b[0mdtype\u001b[0m\u001b[1;33m=\u001b[0m\u001b[0mdtype\u001b[0m\u001b[1;33m,\u001b[0m \u001b[0mna_value\u001b[0m\u001b[1;33m=\u001b[0m\u001b[0mna_value\u001b[0m\u001b[1;33m)\u001b[0m\u001b[1;33m\u001b[0m\u001b[1;33m\u001b[0m\u001b[0m\n\u001b[0m\u001b[0;32m   1600\u001b[0m             \u001b[1;31m# The underlying data was copied within _interleave\u001b[0m\u001b[1;33m\u001b[0m\u001b[1;33m\u001b[0m\u001b[0m\n\u001b[0;32m   1601\u001b[0m             \u001b[0mcopy\u001b[0m \u001b[1;33m=\u001b[0m \u001b[1;32mFalse\u001b[0m\u001b[1;33m\u001b[0m\u001b[1;33m\u001b[0m\u001b[0m\n",
      "\u001b[1;32mC:\\ProgramData\\Anaconda3\\lib\\site-packages\\pandas\\core\\internals\\managers.py\u001b[0m in \u001b[0;36m_interleave\u001b[1;34m(self, dtype, na_value)\u001b[0m\n\u001b[0;32m   1636\u001b[0m             \u001b[0mdtype\u001b[0m \u001b[1;33m=\u001b[0m \u001b[0mnp\u001b[0m\u001b[1;33m.\u001b[0m\u001b[0mdtype\u001b[0m\u001b[1;33m(\u001b[0m\u001b[1;34m\"object\"\u001b[0m\u001b[1;33m)\u001b[0m\u001b[1;33m\u001b[0m\u001b[1;33m\u001b[0m\u001b[0m\n\u001b[0;32m   1637\u001b[0m \u001b[1;33m\u001b[0m\u001b[0m\n\u001b[1;32m-> 1638\u001b[1;33m         \u001b[0mresult\u001b[0m \u001b[1;33m=\u001b[0m \u001b[0mnp\u001b[0m\u001b[1;33m.\u001b[0m\u001b[0mempty\u001b[0m\u001b[1;33m(\u001b[0m\u001b[0mself\u001b[0m\u001b[1;33m.\u001b[0m\u001b[0mshape\u001b[0m\u001b[1;33m,\u001b[0m \u001b[0mdtype\u001b[0m\u001b[1;33m=\u001b[0m\u001b[0mdtype\u001b[0m\u001b[1;33m)\u001b[0m\u001b[1;33m\u001b[0m\u001b[1;33m\u001b[0m\u001b[0m\n\u001b[0m\u001b[0;32m   1639\u001b[0m \u001b[1;33m\u001b[0m\u001b[0m\n\u001b[0;32m   1640\u001b[0m         \u001b[0mitemmask\u001b[0m \u001b[1;33m=\u001b[0m \u001b[0mnp\u001b[0m\u001b[1;33m.\u001b[0m\u001b[0mzeros\u001b[0m\u001b[1;33m(\u001b[0m\u001b[0mself\u001b[0m\u001b[1;33m.\u001b[0m\u001b[0mshape\u001b[0m\u001b[1;33m[\u001b[0m\u001b[1;36m0\u001b[0m\u001b[1;33m]\u001b[0m\u001b[1;33m)\u001b[0m\u001b[1;33m\u001b[0m\u001b[1;33m\u001b[0m\u001b[0m\n",
      "\u001b[1;31mMemoryError\u001b[0m: Unable to allocate 1018. MiB for an array with shape (1449, 92125) and data type int64"
     ]
    }
   ],
   "source": [
    "X = df.iloc[:,1:].to_numpy()\n",
    "Y = df['정오답'].to_numpy()"
   ]
  },
  {
   "cell_type": "code",
   "execution_count": null,
   "metadata": {
    "id": "iRt2tw5YNqLw"
   },
   "outputs": [],
   "source": []
  },
  {
   "cell_type": "markdown",
   "metadata": {
    "id": "XAnd5km-Nqep"
   },
   "source": [
    "```python\n",
    "X = df.iloc[:,1:].to_numpy()\n",
    "Y = df['정오답'].to_numpy()\n",
    "```"
   ]
  },
  {
   "cell_type": "code",
   "execution_count": null,
   "metadata": {
    "id": "IABzmJzXNt1U"
   },
   "outputs": [],
   "source": []
  },
  {
   "cell_type": "markdown",
   "metadata": {
    "id": "2E6iCTs1NuB3"
   },
   "source": [
    "```python\n",
    "from sklearn.preprocessing import StandardScaler\n",
    "from sklearn.model_selection import train_test_split\n",
    "\n",
    "X_train , X_test, y_train , y_test = train_test_split(X, Y, test_size=0.2, random_state=0)\n",
    "```"
   ]
  },
  {
   "cell_type": "code",
   "execution_count": null,
   "metadata": {
    "id": "s_72CSBdNxF6"
   },
   "outputs": [],
   "source": []
  },
  {
   "cell_type": "markdown",
   "metadata": {
    "id": "ND76yLU4Nxu0"
   },
   "source": [
    "```python\n",
    "from sklearn.metrics import accuracy_score, roc_auc_score\n",
    "\n",
    "# 로지스틱 회귀를 이용하여 학습 및 예측 수행. \n",
    "# solver인자값을 생성자로 입력하지 않으면 solver='lbfgs'  \n",
    "lr_clf = LogisticRegression() # solver='lbfgs'\n",
    "lr_clf.fit(X_train, y_train)\n",
    "lr_preds = lr_clf.predict(X_test)\n",
    "\n",
    "# accuracy와 roc_auc 측정\n",
    "print('accuracy: {0:.3f}, roc_auc:{1:.3f}'.format(accuracy_score(y_test, lr_preds),\n",
    "                                                 roc_auc_score(y_test , lr_preds)))\n",
    "```"
   ]
  },
  {
   "cell_type": "code",
   "execution_count": null,
   "metadata": {
    "id": "ZhmvWZK3oBNn",
    "scrolled": true
   },
   "outputs": [],
   "source": []
  },
  {
   "cell_type": "markdown",
   "metadata": {
    "id": "xZFx72I_N29v"
   },
   "source": [
    "#### 더 성능을 높여보자."
   ]
  },
  {
   "cell_type": "markdown",
   "metadata": {
    "id": "zwnFlnO2n95Y"
   },
   "source": [
    "재생시간 스케일링"
   ]
  },
  {
   "cell_type": "markdown",
   "metadata": {
    "id": "V52MKaP8OAG3"
   },
   "source": [
    "```python\n",
    "df[['동영상재생시간','실제재생시간']]\n",
    "```"
   ]
  },
  {
   "cell_type": "code",
   "execution_count": null,
   "metadata": {
    "id": "BlEWh1NVygCg"
   },
   "outputs": [],
   "source": []
  },
  {
   "cell_type": "markdown",
   "metadata": {
    "id": "MAoh1TvlOC4Z"
   },
   "source": [
    "```python\n",
    "scaler = StandardScaler()\n",
    "data_scaled = scaler.fit_transform(df[['동영상재생시간','실제재생시간']])\n",
    "```"
   ]
  },
  {
   "cell_type": "code",
   "execution_count": null,
   "metadata": {
    "id": "HX5sgaMKyP0G"
   },
   "outputs": [],
   "source": []
  },
  {
   "cell_type": "markdown",
   "metadata": {
    "id": "NqvIpF3HOIkZ"
   },
   "source": [
    "```python\n",
    "df[['동영상재생시간','실제재생시간']] = data_scaled\n",
    "```"
   ]
  },
  {
   "cell_type": "code",
   "execution_count": null,
   "metadata": {
    "id": "XUshKcGMymk3"
   },
   "outputs": [],
   "source": []
  },
  {
   "cell_type": "markdown",
   "metadata": {
    "id": "J2VCugS-OK2S"
   },
   "source": [
    "```python\n",
    "X = df.iloc[:,1:].to_numpy()\n",
    "Y = df['정오답'].to_numpy()\n",
    "```"
   ]
  },
  {
   "cell_type": "code",
   "execution_count": null,
   "metadata": {
    "id": "7kWl3ngizF_P",
    "scrolled": true
   },
   "outputs": [],
   "source": []
  },
  {
   "cell_type": "markdown",
   "metadata": {
    "id": "QOhY3xr5OOMK"
   },
   "source": [
    "```python\n",
    "from sklearn.preprocessing import StandardScaler\n",
    "from sklearn.model_selection import train_test_split\n",
    "\n",
    "X_train , X_test, y_train , y_test = train_test_split(X, Y, test_size=0.2, random_state=0)\n",
    "```"
   ]
  },
  {
   "cell_type": "code",
   "execution_count": null,
   "metadata": {
    "id": "ayQXyB1nzF_Q",
    "scrolled": true
   },
   "outputs": [],
   "source": []
  },
  {
   "cell_type": "markdown",
   "metadata": {
    "id": "MOdzP9kqOQBs"
   },
   "source": [
    "```python\n",
    "# 로지스틱 회귀를 이용하여 학습 및 예측 수행. \n",
    "# solver인자값을 생성자로 입력하지 않으면 solver='lbfgs'  \n",
    "lr_clf = LogisticRegression() # solver='lbfgs'\n",
    "lr_clf.fit(X_train, y_train)\n",
    "lr_preds = lr_clf.predict(X_test)\n",
    "\n",
    "# accuracy와 roc_auc 측정\n",
    "print('accuracy: {0:.3f}, roc_auc:{1:.3f}'.format(accuracy_score(y_test, lr_preds),\n",
    "                                                 roc_auc_score(y_test , lr_preds)))\n",
    "```"
   ]
  },
  {
   "cell_type": "code",
   "execution_count": null,
   "metadata": {
    "id": "G2Z2sZNJy-z9"
   },
   "outputs": [],
   "source": []
  },
  {
   "cell_type": "markdown",
   "metadata": {
    "id": "PI5OFr7NOTQ4"
   },
   "source": [
    "```python\n",
    "pd.DataFrame(data=[lr_preds, y_test])\n",
    "```"
   ]
  },
  {
   "cell_type": "code",
   "execution_count": null,
   "metadata": {
    "id": "ePUCrk9VoBNo"
   },
   "outputs": [],
   "source": []
  },
  {
   "cell_type": "code",
   "execution_count": null,
   "metadata": {
    "id": "BHwhC8U4oBNo"
   },
   "outputs": [],
   "source": []
  },
  {
   "cell_type": "code",
   "execution_count": null,
   "metadata": {
    "id": "WGYHORmxoBNo"
   },
   "outputs": [],
   "source": []
  },
  {
   "cell_type": "code",
   "execution_count": null,
   "metadata": {
    "id": "KsOZVcVZpc_9"
   },
   "outputs": [],
   "source": []
  }
 ],
 "metadata": {
  "colab": {
   "provenance": []
  },
  "kernelspec": {
   "display_name": "Python 3 (ipykernel)",
   "language": "python",
   "name": "python3"
  },
  "language_info": {
   "codemirror_mode": {
    "name": "ipython",
    "version": 3
   },
   "file_extension": ".py",
   "mimetype": "text/x-python",
   "name": "python",
   "nbconvert_exporter": "python",
   "pygments_lexer": "ipython3",
   "version": "3.9.13"
  }
 },
 "nbformat": 4,
 "nbformat_minor": 1
}
